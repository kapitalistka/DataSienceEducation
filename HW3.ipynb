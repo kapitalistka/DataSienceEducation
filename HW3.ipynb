{
  "nbformat": 4,
  "nbformat_minor": 0,
  "metadata": {
    "colab": {
      "name": "HW3",
      "provenance": [],
      "collapsed_sections": [],
      "mount_file_id": "14ZkBLY4f4jTMBfdCh4xOBXw4kKch5eRC",
      "authorship_tag": "ABX9TyOZjra9+OJ2LaBXGeqvXUu1",
      "include_colab_link": true
    },
    "kernelspec": {
      "name": "python3",
      "display_name": "Python 3"
    },
    "language_info": {
      "name": "python"
    }
  },
  "cells": [
    {
      "cell_type": "markdown",
      "metadata": {
        "id": "view-in-github",
        "colab_type": "text"
      },
      "source": [
        "<a href=\"https://colab.research.google.com/github/kapitalistka/DataSienceEducation/blob/main/HW3.ipynb\" target=\"_parent\"><img src=\"https://colab.research.google.com/assets/colab-badge.svg\" alt=\"Open In Colab\"/></a>"
      ]
    },
    {
      "cell_type": "markdown",
      "source": [
        "##0. Загрузка данных"
      ],
      "metadata": {
        "id": "FlVZdB3VA4DF"
      }
    },
    {
      "cell_type": "code",
      "execution_count": 1,
      "metadata": {
        "id": "Ozw2kjYLMStb",
        "colab": {
          "base_uri": "https://localhost:8080/"
        },
        "outputId": "ad062a83-be03-429c-9220-c7fbcd1a9539"
      },
      "outputs": [
        {
          "output_type": "stream",
          "name": "stdout",
          "text": [
            "Mounted at /content/gdrive\n"
          ]
        }
      ],
      "source": [
        "#!pip install kaggle\n",
        "from google.colab import files\n",
        "from google.colab import drive\n",
        "from zipfile import ZipFile\n",
        "from google.colab import files\n",
        "\n",
        "import numpy as np\n",
        "import pandas as pd\n",
        "import matplotlib.pyplot as plt\n",
        "import seaborn as sns\n",
        "drive.mount('/content/gdrive')"
      ]
    },
    {
      "cell_type": "code",
      "source": [
        "pd.options.display.float_format = \"{:,.2f}\".format"
      ],
      "metadata": {
        "id": "uGWrcGB14p6J"
      },
      "execution_count": 2,
      "outputs": []
    },
    {
      "cell_type": "code",
      "source": [
        "def update_kaggle_token():\n",
        "  uploaded = files.upload()\n",
        "\n",
        "  for fn in uploaded.keys():\n",
        "    print('User uploaded file \"{name}\" with length {length} bytes'.format(\n",
        "        name=fn, length=len(uploaded[fn])))\n",
        "  \n",
        "  # Then move kaggle.json into the folder where the API expects to find it.\n",
        "  !mkdir -p ~/.kaggle/ && mv kaggle.json ~/.kaggle/ && chmod 600 ~/.kaggle/kaggle.json\n",
        "\n",
        "update_kaggle_token()"
      ],
      "metadata": {
        "id": "2vfdsQ1WqU-b",
        "colab": {
          "resources": {
            "http://localhost:8080/nbextensions/google.colab/files.js": {
              "data": "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",
              "ok": true,
              "headers": [
                [
                  "content-type",
                  "application/javascript"
                ]
              ],
              "status": 200,
              "status_text": ""
            }
          },
          "base_uri": "https://localhost:8080/",
          "height": 90
        },
        "outputId": "c8d6d871-2c51-4442-83e8-bc2d1e6833ad"
      },
      "execution_count": 3,
      "outputs": [
        {
          "output_type": "display_data",
          "data": {
            "text/html": [
              "\n",
              "     <input type=\"file\" id=\"files-d624187a-e564-4d7e-8c88-858a9775323d\" name=\"files[]\" multiple disabled\n",
              "        style=\"border:none\" />\n",
              "     <output id=\"result-d624187a-e564-4d7e-8c88-858a9775323d\">\n",
              "      Upload widget is only available when the cell has been executed in the\n",
              "      current browser session. Please rerun this cell to enable.\n",
              "      </output>\n",
              "      <script src=\"/nbextensions/google.colab/files.js\"></script> "
            ],
            "text/plain": [
              "<IPython.core.display.HTML object>"
            ]
          },
          "metadata": {}
        },
        {
          "output_type": "stream",
          "name": "stdout",
          "text": [
            "Saving kaggle.json to kaggle.json\n",
            "User uploaded file \"kaggle.json\" with length 65 bytes\n"
          ]
        }
      ]
    },
    {
      "cell_type": "code",
      "source": [
        "def download_kaggle_data():\n",
        "  %cd /\n",
        "  %cd /content\n",
        "  !mkdir -p kaggle/HW3/\n",
        "  %cd kaggle/HW3\n",
        "  !kaggle competitions download -c sberbank-russian-housing-market\n",
        "  %cd /content\n",
        "\n",
        "download_kaggle_data();"
      ],
      "metadata": {
        "colab": {
          "base_uri": "https://localhost:8080/"
        },
        "id": "DePGmg9_sgaf",
        "outputId": "2269f2b9-b92e-4367-f82d-a50795817340"
      },
      "execution_count": 4,
      "outputs": [
        {
          "output_type": "stream",
          "name": "stdout",
          "text": [
            "/\n",
            "/content\n",
            "/content/kaggle/HW3\n",
            "Warning: Looks like you're using an outdated API Version, please consider updating (server 1.5.12 / client 1.5.4)\n",
            "test.csv.zip: Skipping, found more recently modified local copy (use --force to force download)\n",
            "train.csv.zip: Skipping, found more recently modified local copy (use --force to force download)\n",
            "data_dictionary.txt: Skipping, found more recently modified local copy (use --force to force download)\n",
            "macro.csv.zip: Skipping, found more recently modified local copy (use --force to force download)\n",
            "sample_submission.csv.zip: Skipping, found more recently modified local copy (use --force to force download)\n",
            "/content\n"
          ]
        }
      ]
    },
    {
      "cell_type": "code",
      "source": [
        "from sklearn.model_selection import train_test_split\n",
        "%matplotlib inline"
      ],
      "metadata": {
        "id": "q5hqbTvUvWFG"
      },
      "execution_count": 5,
      "outputs": []
    },
    {
      "cell_type": "code",
      "source": [
        "file_zip_train = \"kaggle/HW3/train.csv.zip\"\n",
        "file_train = \"train.csv\"\n",
        "\n",
        "file_zip_test = \"kaggle/HW3/test.csv.zip\"\n",
        "file_test = \"test.csv\""
      ],
      "metadata": {
        "id": "hvPcym6_NWA7"
      },
      "execution_count": 6,
      "outputs": []
    },
    {
      "cell_type": "code",
      "source": [
        "raw_train_data = pd.read_csv(ZipFile(file_zip_train).open(file_train))\n",
        "raw_test_data = pd.read_csv(ZipFile(file_zip_test).open(file_test))"
      ],
      "metadata": {
        "id": "U9TWqKH9SYId"
      },
      "execution_count": 7,
      "outputs": []
    },
    {
      "cell_type": "markdown",
      "source": [
        "## 1. Подготовка и  анализ данных"
      ],
      "metadata": {
        "id": "9FRsGEmJBGCR"
      }
    },
    {
      "cell_type": "code",
      "source": [
        "from sklearn.impute import SimpleImputer\n",
        "from sklearn.preprocessing import OrdinalEncoder"
      ],
      "metadata": {
        "id": "PE_B9lfd5fgN"
      },
      "execution_count": 8,
      "outputs": []
    },
    {
      "cell_type": "markdown",
      "source": [
        "### Общая информация о наборе данных"
      ],
      "metadata": {
        "id": "rJybbxrIvVUv"
      }
    },
    {
      "cell_type": "code",
      "source": [
        "df = raw_train_data\n",
        "print(\"Shape:   \" , df.shape)\n",
        "print( '\\nОбщая информация о  наборе данных:')\n",
        "print(df.info())"
      ],
      "metadata": {
        "colab": {
          "base_uri": "https://localhost:8080/"
        },
        "id": "gQgRqLdqBZpc",
        "outputId": "051a94dd-01c8-4575-9de0-4a6a1db7ef9c"
      },
      "execution_count": 9,
      "outputs": [
        {
          "output_type": "stream",
          "name": "stdout",
          "text": [
            "Shape:    (30471, 292)\n",
            "\n",
            "Общая информация о  наборе данных:\n",
            "<class 'pandas.core.frame.DataFrame'>\n",
            "RangeIndex: 30471 entries, 0 to 30470\n",
            "Columns: 292 entries, id to price_doc\n",
            "dtypes: float64(119), int64(157), object(16)\n",
            "memory usage: 67.9+ MB\n",
            "None\n"
          ]
        }
      ]
    },
    {
      "cell_type": "code",
      "source": [
        "df.describe()"
      ],
      "metadata": {
        "colab": {
          "base_uri": "https://localhost:8080/",
          "height": 394
        },
        "id": "1jsYm0VTC4Dp",
        "outputId": "67decf60-cacc-44cb-f8b7-4802e427594a"
      },
      "execution_count": 303,
      "outputs": [
        {
          "output_type": "execute_result",
          "data": {
            "text/html": [
              "\n",
              "  <div id=\"df-1861e722-2064-471a-ad67-86412ce3a95d\">\n",
              "    <div class=\"colab-df-container\">\n",
              "      <div>\n",
              "<style scoped>\n",
              "    .dataframe tbody tr th:only-of-type {\n",
              "        vertical-align: middle;\n",
              "    }\n",
              "\n",
              "    .dataframe tbody tr th {\n",
              "        vertical-align: top;\n",
              "    }\n",
              "\n",
              "    .dataframe thead th {\n",
              "        text-align: right;\n",
              "    }\n",
              "</style>\n",
              "<table border=\"1\" class=\"dataframe\">\n",
              "  <thead>\n",
              "    <tr style=\"text-align: right;\">\n",
              "      <th></th>\n",
              "      <th>id</th>\n",
              "      <th>full_sq</th>\n",
              "      <th>life_sq</th>\n",
              "      <th>floor</th>\n",
              "      <th>max_floor</th>\n",
              "      <th>material</th>\n",
              "      <th>build_year</th>\n",
              "      <th>num_room</th>\n",
              "      <th>kitch_sq</th>\n",
              "      <th>state</th>\n",
              "      <th>area_m</th>\n",
              "      <th>raion_popul</th>\n",
              "      <th>green_zone_part</th>\n",
              "      <th>indust_part</th>\n",
              "      <th>children_preschool</th>\n",
              "      <th>preschool_quota</th>\n",
              "      <th>preschool_education_centers_raion</th>\n",
              "      <th>children_school</th>\n",
              "      <th>school_quota</th>\n",
              "      <th>school_education_centers_raion</th>\n",
              "      <th>school_education_centers_top_20_raion</th>\n",
              "      <th>hospital_beds_raion</th>\n",
              "      <th>healthcare_centers_raion</th>\n",
              "      <th>university_top_20_raion</th>\n",
              "      <th>sport_objects_raion</th>\n",
              "      <th>additional_education_raion</th>\n",
              "      <th>culture_objects_top_25_raion</th>\n",
              "      <th>shopping_centers_raion</th>\n",
              "      <th>office_raion</th>\n",
              "      <th>full_all</th>\n",
              "      <th>male_f</th>\n",
              "      <th>female_f</th>\n",
              "      <th>young_all</th>\n",
              "      <th>young_male</th>\n",
              "      <th>young_female</th>\n",
              "      <th>work_all</th>\n",
              "      <th>work_male</th>\n",
              "      <th>work_female</th>\n",
              "      <th>ekder_all</th>\n",
              "      <th>ekder_male</th>\n",
              "      <th>...</th>\n",
              "      <th>cafe_sum_3000_min_price_avg</th>\n",
              "      <th>cafe_sum_3000_max_price_avg</th>\n",
              "      <th>cafe_avg_price_3000</th>\n",
              "      <th>cafe_count_3000_na_price</th>\n",
              "      <th>cafe_count_3000_price_500</th>\n",
              "      <th>cafe_count_3000_price_1000</th>\n",
              "      <th>cafe_count_3000_price_1500</th>\n",
              "      <th>cafe_count_3000_price_2500</th>\n",
              "      <th>cafe_count_3000_price_4000</th>\n",
              "      <th>cafe_count_3000_price_high</th>\n",
              "      <th>big_church_count_3000</th>\n",
              "      <th>church_count_3000</th>\n",
              "      <th>mosque_count_3000</th>\n",
              "      <th>leisure_count_3000</th>\n",
              "      <th>sport_count_3000</th>\n",
              "      <th>market_count_3000</th>\n",
              "      <th>green_part_5000</th>\n",
              "      <th>prom_part_5000</th>\n",
              "      <th>office_count_5000</th>\n",
              "      <th>office_sqm_5000</th>\n",
              "      <th>trc_count_5000</th>\n",
              "      <th>trc_sqm_5000</th>\n",
              "      <th>cafe_count_5000</th>\n",
              "      <th>cafe_sum_5000_min_price_avg</th>\n",
              "      <th>cafe_sum_5000_max_price_avg</th>\n",
              "      <th>cafe_avg_price_5000</th>\n",
              "      <th>cafe_count_5000_na_price</th>\n",
              "      <th>cafe_count_5000_price_500</th>\n",
              "      <th>cafe_count_5000_price_1000</th>\n",
              "      <th>cafe_count_5000_price_1500</th>\n",
              "      <th>cafe_count_5000_price_2500</th>\n",
              "      <th>cafe_count_5000_price_4000</th>\n",
              "      <th>cafe_count_5000_price_high</th>\n",
              "      <th>big_church_count_5000</th>\n",
              "      <th>church_count_5000</th>\n",
              "      <th>mosque_count_5000</th>\n",
              "      <th>leisure_count_5000</th>\n",
              "      <th>sport_count_5000</th>\n",
              "      <th>market_count_5000</th>\n",
              "      <th>price_doc</th>\n",
              "    </tr>\n",
              "  </thead>\n",
              "  <tbody>\n",
              "    <tr>\n",
              "      <th>count</th>\n",
              "      <td>30,471.00</td>\n",
              "      <td>30,471.00</td>\n",
              "      <td>30,471.00</td>\n",
              "      <td>30,471.00</td>\n",
              "      <td>30,471.00</td>\n",
              "      <td>30,471.00</td>\n",
              "      <td>30,471.00</td>\n",
              "      <td>30,471.00</td>\n",
              "      <td>30,471.00</td>\n",
              "      <td>30,471.00</td>\n",
              "      <td>30,471.00</td>\n",
              "      <td>30,471.00</td>\n",
              "      <td>30,471.00</td>\n",
              "      <td>30,471.00</td>\n",
              "      <td>30,471.00</td>\n",
              "      <td>30,471.00</td>\n",
              "      <td>30,471.00</td>\n",
              "      <td>30,471.00</td>\n",
              "      <td>30,471.00</td>\n",
              "      <td>30,471.00</td>\n",
              "      <td>30,471.00</td>\n",
              "      <td>30,471.00</td>\n",
              "      <td>30,471.00</td>\n",
              "      <td>30,471.00</td>\n",
              "      <td>30,471.00</td>\n",
              "      <td>30,471.00</td>\n",
              "      <td>30,471.00</td>\n",
              "      <td>30,471.00</td>\n",
              "      <td>30,471.00</td>\n",
              "      <td>30,471.00</td>\n",
              "      <td>30,471.00</td>\n",
              "      <td>30,471.00</td>\n",
              "      <td>30,471.00</td>\n",
              "      <td>30,471.00</td>\n",
              "      <td>30,471.00</td>\n",
              "      <td>30,471.00</td>\n",
              "      <td>30,471.00</td>\n",
              "      <td>30,471.00</td>\n",
              "      <td>30,471.00</td>\n",
              "      <td>30,471.00</td>\n",
              "      <td>...</td>\n",
              "      <td>30,471.00</td>\n",
              "      <td>30,471.00</td>\n",
              "      <td>30,471.00</td>\n",
              "      <td>30,471.00</td>\n",
              "      <td>30,471.00</td>\n",
              "      <td>30,471.00</td>\n",
              "      <td>30,471.00</td>\n",
              "      <td>30,471.00</td>\n",
              "      <td>30,471.00</td>\n",
              "      <td>30,471.00</td>\n",
              "      <td>30,471.00</td>\n",
              "      <td>30,471.00</td>\n",
              "      <td>30,471.00</td>\n",
              "      <td>30,471.00</td>\n",
              "      <td>30,471.00</td>\n",
              "      <td>30,471.00</td>\n",
              "      <td>30,471.00</td>\n",
              "      <td>30,471.00</td>\n",
              "      <td>30,471.00</td>\n",
              "      <td>30,471.00</td>\n",
              "      <td>30,471.00</td>\n",
              "      <td>30,471.00</td>\n",
              "      <td>30,471.00</td>\n",
              "      <td>30,471.00</td>\n",
              "      <td>30,471.00</td>\n",
              "      <td>30,471.00</td>\n",
              "      <td>30,471.00</td>\n",
              "      <td>30,471.00</td>\n",
              "      <td>30,471.00</td>\n",
              "      <td>30,471.00</td>\n",
              "      <td>30,471.00</td>\n",
              "      <td>30,471.00</td>\n",
              "      <td>30,471.00</td>\n",
              "      <td>30,471.00</td>\n",
              "      <td>30,471.00</td>\n",
              "      <td>30,471.00</td>\n",
              "      <td>30,471.00</td>\n",
              "      <td>30,471.00</td>\n",
              "      <td>30,471.00</td>\n",
              "      <td>30,471.00</td>\n",
              "    </tr>\n",
              "    <tr>\n",
              "      <th>mean</th>\n",
              "      <td>15,237.92</td>\n",
              "      <td>54.21</td>\n",
              "      <td>34.40</td>\n",
              "      <td>7.67</td>\n",
              "      <td>12.56</td>\n",
              "      <td>1.25</td>\n",
              "      <td>1,985.37</td>\n",
              "      <td>1.91</td>\n",
              "      <td>6.40</td>\n",
              "      <td>2.11</td>\n",
              "      <td>17,657,051.42</td>\n",
              "      <td>84,056.43</td>\n",
              "      <td>0.22</td>\n",
              "      <td>0.12</td>\n",
              "      <td>5,140.03</td>\n",
              "      <td>3,271.27</td>\n",
              "      <td>4.07</td>\n",
              "      <td>5,354.27</td>\n",
              "      <td>8,324.97</td>\n",
              "      <td>4.71</td>\n",
              "      <td>0.11</td>\n",
              "      <td>1,190.74</td>\n",
              "      <td>1.32</td>\n",
              "      <td>0.14</td>\n",
              "      <td>6.64</td>\n",
              "      <td>2.90</td>\n",
              "      <td>0.29</td>\n",
              "      <td>4.20</td>\n",
              "      <td>8.25</td>\n",
              "      <td>146,306.15</td>\n",
              "      <td>67,207.79</td>\n",
              "      <td>79,098.66</td>\n",
              "      <td>11,178.81</td>\n",
              "      <td>5,723.85</td>\n",
              "      <td>5,455.01</td>\n",
              "      <td>53,667.91</td>\n",
              "      <td>27,253.59</td>\n",
              "      <td>26,414.41</td>\n",
              "      <td>19,209.71</td>\n",
              "      <td>5,811.62</td>\n",
              "      <td>...</td>\n",
              "      <td>765.90</td>\n",
              "      <td>1,283.33</td>\n",
              "      <td>1,024.62</td>\n",
              "      <td>7.27</td>\n",
              "      <td>27.78</td>\n",
              "      <td>30.45</td>\n",
              "      <td>26.69</td>\n",
              "      <td>13.32</td>\n",
              "      <td>4.65</td>\n",
              "      <td>0.71</td>\n",
              "      <td>6.12</td>\n",
              "      <td>12.29</td>\n",
              "      <td>0.20</td>\n",
              "      <td>3.88</td>\n",
              "      <td>20.24</td>\n",
              "      <td>2.32</td>\n",
              "      <td>22.77</td>\n",
              "      <td>10.35</td>\n",
              "      <td>71.36</td>\n",
              "      <td>1,401,057.39</td>\n",
              "      <td>30.13</td>\n",
              "      <td>1,173,871.15</td>\n",
              "      <td>265.53</td>\n",
              "      <td>765.10</td>\n",
              "      <td>1,278.28</td>\n",
              "      <td>1,021.69</td>\n",
              "      <td>17.81</td>\n",
              "      <td>66.20</td>\n",
              "      <td>73.44</td>\n",
              "      <td>63.47</td>\n",
              "      <td>32.06</td>\n",
              "      <td>10.78</td>\n",
              "      <td>1.77</td>\n",
              "      <td>15.05</td>\n",
              "      <td>30.25</td>\n",
              "      <td>0.44</td>\n",
              "      <td>8.65</td>\n",
              "      <td>52.80</td>\n",
              "      <td>5.99</td>\n",
              "      <td>7,123,035.28</td>\n",
              "    </tr>\n",
              "    <tr>\n",
              "      <th>std</th>\n",
              "      <td>8,796.50</td>\n",
              "      <td>38.03</td>\n",
              "      <td>46.49</td>\n",
              "      <td>5.31</td>\n",
              "      <td>5.60</td>\n",
              "      <td>1.49</td>\n",
              "      <td>15.10</td>\n",
              "      <td>0.71</td>\n",
              "      <td>23.41</td>\n",
              "      <td>0.63</td>\n",
              "      <td>20,649,607.99</td>\n",
              "      <td>57,871.29</td>\n",
              "      <td>0.18</td>\n",
              "      <td>0.12</td>\n",
              "      <td>3,816.63</td>\n",
              "      <td>1,916.90</td>\n",
              "      <td>2.99</td>\n",
              "      <td>3,989.64</td>\n",
              "      <td>3,790.06</td>\n",
              "      <td>3.45</td>\n",
              "      <td>0.33</td>\n",
              "      <td>766.65</td>\n",
              "      <td>1.49</td>\n",
              "      <td>0.44</td>\n",
              "      <td>6.57</td>\n",
              "      <td>3.29</td>\n",
              "      <td>1.51</td>\n",
              "      <td>4.74</td>\n",
              "      <td>23.54</td>\n",
              "      <td>283,025.12</td>\n",
              "      <td>129,444.56</td>\n",
              "      <td>153,630.89</td>\n",
              "      <td>8,287.96</td>\n",
              "      <td>4,275.44</td>\n",
              "      <td>4,020.55</td>\n",
              "      <td>37,483.56</td>\n",
              "      <td>18,939.15</td>\n",
              "      <td>18,643.13</td>\n",
              "      <td>13,174.72</td>\n",
              "      <td>4,073.83</td>\n",
              "      <td>...</td>\n",
              "      <td>220.33</td>\n",
              "      <td>347.51</td>\n",
              "      <td>283.44</td>\n",
              "      <td>18.24</td>\n",
              "      <td>71.83</td>\n",
              "      <td>69.53</td>\n",
              "      <td>70.86</td>\n",
              "      <td>41.28</td>\n",
              "      <td>16.88</td>\n",
              "      <td>2.78</td>\n",
              "      <td>15.41</td>\n",
              "      <td>25.79</td>\n",
              "      <td>0.45</td>\n",
              "      <td>13.19</td>\n",
              "      <td>18.84</td>\n",
              "      <td>2.27</td>\n",
              "      <td>11.21</td>\n",
              "      <td>5.65</td>\n",
              "      <td>155.34</td>\n",
              "      <td>2,303,052.49</td>\n",
              "      <td>23.92</td>\n",
              "      <td>1,004,809.88</td>\n",
              "      <td>514.54</td>\n",
              "      <td>151.66</td>\n",
              "      <td>235.05</td>\n",
              "      <td>193.17</td>\n",
              "      <td>33.27</td>\n",
              "      <td>125.93</td>\n",
              "      <td>126.17</td>\n",
              "      <td>124.08</td>\n",
              "      <td>73.47</td>\n",
              "      <td>28.39</td>\n",
              "      <td>5.42</td>\n",
              "      <td>29.12</td>\n",
              "      <td>47.35</td>\n",
              "      <td>0.61</td>\n",
              "      <td>20.58</td>\n",
              "      <td>46.29</td>\n",
              "      <td>4.89</td>\n",
              "      <td>4,780,111.33</td>\n",
              "    </tr>\n",
              "    <tr>\n",
              "      <th>min</th>\n",
              "      <td>1.00</td>\n",
              "      <td>0.00</td>\n",
              "      <td>0.00</td>\n",
              "      <td>0.00</td>\n",
              "      <td>0.00</td>\n",
              "      <td>0.00</td>\n",
              "      <td>1,860.00</td>\n",
              "      <td>0.00</td>\n",
              "      <td>0.00</td>\n",
              "      <td>1.00</td>\n",
              "      <td>2,081,627.76</td>\n",
              "      <td>2,546.00</td>\n",
              "      <td>0.00</td>\n",
              "      <td>0.00</td>\n",
              "      <td>175.00</td>\n",
              "      <td>0.00</td>\n",
              "      <td>0.00</td>\n",
              "      <td>168.00</td>\n",
              "      <td>1,012.00</td>\n",
              "      <td>0.00</td>\n",
              "      <td>0.00</td>\n",
              "      <td>0.00</td>\n",
              "      <td>0.00</td>\n",
              "      <td>0.00</td>\n",
              "      <td>0.00</td>\n",
              "      <td>0.00</td>\n",
              "      <td>0.00</td>\n",
              "      <td>0.00</td>\n",
              "      <td>0.00</td>\n",
              "      <td>2,546.00</td>\n",
              "      <td>1,208.00</td>\n",
              "      <td>1,341.00</td>\n",
              "      <td>365.00</td>\n",
              "      <td>189.00</td>\n",
              "      <td>177.00</td>\n",
              "      <td>1,633.00</td>\n",
              "      <td>863.00</td>\n",
              "      <td>771.00</td>\n",
              "      <td>548.00</td>\n",
              "      <td>156.00</td>\n",
              "      <td>...</td>\n",
              "      <td>300.00</td>\n",
              "      <td>500.00</td>\n",
              "      <td>400.00</td>\n",
              "      <td>0.00</td>\n",
              "      <td>0.00</td>\n",
              "      <td>0.00</td>\n",
              "      <td>0.00</td>\n",
              "      <td>0.00</td>\n",
              "      <td>0.00</td>\n",
              "      <td>0.00</td>\n",
              "      <td>0.00</td>\n",
              "      <td>0.00</td>\n",
              "      <td>0.00</td>\n",
              "      <td>0.00</td>\n",
              "      <td>0.00</td>\n",
              "      <td>0.00</td>\n",
              "      <td>3.52</td>\n",
              "      <td>0.21</td>\n",
              "      <td>0.00</td>\n",
              "      <td>0.00</td>\n",
              "      <td>0.00</td>\n",
              "      <td>0.00</td>\n",
              "      <td>0.00</td>\n",
              "      <td>300.00</td>\n",
              "      <td>500.00</td>\n",
              "      <td>400.00</td>\n",
              "      <td>0.00</td>\n",
              "      <td>0.00</td>\n",
              "      <td>0.00</td>\n",
              "      <td>0.00</td>\n",
              "      <td>0.00</td>\n",
              "      <td>0.00</td>\n",
              "      <td>0.00</td>\n",
              "      <td>0.00</td>\n",
              "      <td>0.00</td>\n",
              "      <td>0.00</td>\n",
              "      <td>0.00</td>\n",
              "      <td>0.00</td>\n",
              "      <td>0.00</td>\n",
              "      <td>100,000.00</td>\n",
              "    </tr>\n",
              "    <tr>\n",
              "      <th>25%</th>\n",
              "      <td>7,620.50</td>\n",
              "      <td>38.00</td>\n",
              "      <td>22.00</td>\n",
              "      <td>3.00</td>\n",
              "      <td>9.00</td>\n",
              "      <td>0.00</td>\n",
              "      <td>1,980.00</td>\n",
              "      <td>1.91</td>\n",
              "      <td>5.00</td>\n",
              "      <td>2.00</td>\n",
              "      <td>7,307,410.57</td>\n",
              "      <td>21,819.00</td>\n",
              "      <td>0.06</td>\n",
              "      <td>0.02</td>\n",
              "      <td>1,706.00</td>\n",
              "      <td>2,232.00</td>\n",
              "      <td>2.00</td>\n",
              "      <td>1,564.00</td>\n",
              "      <td>6,237.00</td>\n",
              "      <td>2.00</td>\n",
              "      <td>0.00</td>\n",
              "      <td>830.00</td>\n",
              "      <td>0.00</td>\n",
              "      <td>0.00</td>\n",
              "      <td>1.00</td>\n",
              "      <td>1.00</td>\n",
              "      <td>0.00</td>\n",
              "      <td>1.00</td>\n",
              "      <td>0.00</td>\n",
              "      <td>28,179.00</td>\n",
              "      <td>13,522.00</td>\n",
              "      <td>15,031.00</td>\n",
              "      <td>3,459.00</td>\n",
              "      <td>1,782.00</td>\n",
              "      <td>1,677.00</td>\n",
              "      <td>13,996.00</td>\n",
              "      <td>7,394.00</td>\n",
              "      <td>6,661.00</td>\n",
              "      <td>4,695.00</td>\n",
              "      <td>1,331.00</td>\n",
              "      <td>...</td>\n",
              "      <td>652.54</td>\n",
              "      <td>1,106.06</td>\n",
              "      <td>879.55</td>\n",
              "      <td>0.00</td>\n",
              "      <td>1.00</td>\n",
              "      <td>2.00</td>\n",
              "      <td>2.00</td>\n",
              "      <td>1.00</td>\n",
              "      <td>0.00</td>\n",
              "      <td>0.00</td>\n",
              "      <td>1.00</td>\n",
              "      <td>3.00</td>\n",
              "      <td>0.00</td>\n",
              "      <td>0.00</td>\n",
              "      <td>5.00</td>\n",
              "      <td>0.00</td>\n",
              "      <td>14.78</td>\n",
              "      <td>6.05</td>\n",
              "      <td>2.00</td>\n",
              "      <td>85,159.00</td>\n",
              "      <td>6.00</td>\n",
              "      <td>262,000.00</td>\n",
              "      <td>20.00</td>\n",
              "      <td>671.25</td>\n",
              "      <td>1,145.35</td>\n",
              "      <td>909.38</td>\n",
              "      <td>1.00</td>\n",
              "      <td>4.00</td>\n",
              "      <td>8.00</td>\n",
              "      <td>6.00</td>\n",
              "      <td>2.00</td>\n",
              "      <td>1.00</td>\n",
              "      <td>0.00</td>\n",
              "      <td>2.00</td>\n",
              "      <td>9.00</td>\n",
              "      <td>0.00</td>\n",
              "      <td>0.00</td>\n",
              "      <td>11.00</td>\n",
              "      <td>1.00</td>\n",
              "      <td>4,740,002.00</td>\n",
              "    </tr>\n",
              "    <tr>\n",
              "      <th>50%</th>\n",
              "      <td>15,238.00</td>\n",
              "      <td>49.00</td>\n",
              "      <td>34.40</td>\n",
              "      <td>7.00</td>\n",
              "      <td>12.56</td>\n",
              "      <td>1.00</td>\n",
              "      <td>1,985.37</td>\n",
              "      <td>1.91</td>\n",
              "      <td>6.40</td>\n",
              "      <td>2.11</td>\n",
              "      <td>10,508,030.10</td>\n",
              "      <td>83,502.00</td>\n",
              "      <td>0.17</td>\n",
              "      <td>0.07</td>\n",
              "      <td>4,857.00</td>\n",
              "      <td>3,271.27</td>\n",
              "      <td>4.00</td>\n",
              "      <td>5,261.00</td>\n",
              "      <td>8,324.97</td>\n",
              "      <td>5.00</td>\n",
              "      <td>0.00</td>\n",
              "      <td>1,190.74</td>\n",
              "      <td>1.00</td>\n",
              "      <td>0.00</td>\n",
              "      <td>5.00</td>\n",
              "      <td>2.00</td>\n",
              "      <td>0.00</td>\n",
              "      <td>3.00</td>\n",
              "      <td>2.00</td>\n",
              "      <td>85,219.00</td>\n",
              "      <td>39,261.00</td>\n",
              "      <td>45,729.00</td>\n",
              "      <td>10,988.00</td>\n",
              "      <td>5,470.00</td>\n",
              "      <td>5,333.00</td>\n",
              "      <td>52,030.00</td>\n",
              "      <td>26,382.00</td>\n",
              "      <td>26,092.00</td>\n",
              "      <td>20,036.00</td>\n",
              "      <td>6,180.00</td>\n",
              "      <td>...</td>\n",
              "      <td>718.52</td>\n",
              "      <td>1,222.22</td>\n",
              "      <td>964.89</td>\n",
              "      <td>3.00</td>\n",
              "      <td>9.00</td>\n",
              "      <td>14.00</td>\n",
              "      <td>10.00</td>\n",
              "      <td>3.00</td>\n",
              "      <td>1.00</td>\n",
              "      <td>0.00</td>\n",
              "      <td>2.00</td>\n",
              "      <td>6.00</td>\n",
              "      <td>0.00</td>\n",
              "      <td>0.00</td>\n",
              "      <td>18.00</td>\n",
              "      <td>2.00</td>\n",
              "      <td>19.76</td>\n",
              "      <td>9.04</td>\n",
              "      <td>15.00</td>\n",
              "      <td>432,438.00</td>\n",
              "      <td>31.00</td>\n",
              "      <td>1,075,495.00</td>\n",
              "      <td>108.00</td>\n",
              "      <td>723.38</td>\n",
              "      <td>1,214.95</td>\n",
              "      <td>969.19</td>\n",
              "      <td>8.00</td>\n",
              "      <td>28.00</td>\n",
              "      <td>36.00</td>\n",
              "      <td>24.00</td>\n",
              "      <td>8.00</td>\n",
              "      <td>2.00</td>\n",
              "      <td>0.00</td>\n",
              "      <td>7.00</td>\n",
              "      <td>16.00</td>\n",
              "      <td>0.00</td>\n",
              "      <td>2.00</td>\n",
              "      <td>48.00</td>\n",
              "      <td>5.00</td>\n",
              "      <td>6,274,411.00</td>\n",
              "    </tr>\n",
              "    <tr>\n",
              "      <th>75%</th>\n",
              "      <td>22,855.50</td>\n",
              "      <td>63.00</td>\n",
              "      <td>38.00</td>\n",
              "      <td>11.00</td>\n",
              "      <td>16.00</td>\n",
              "      <td>1.00</td>\n",
              "      <td>1,985.37</td>\n",
              "      <td>2.00</td>\n",
              "      <td>8.00</td>\n",
              "      <td>2.11</td>\n",
              "      <td>18,036,436.51</td>\n",
              "      <td>122,862.00</td>\n",
              "      <td>0.34</td>\n",
              "      <td>0.20</td>\n",
              "      <td>7,103.00</td>\n",
              "      <td>3,587.00</td>\n",
              "      <td>6.00</td>\n",
              "      <td>7,227.00</td>\n",
              "      <td>9,373.00</td>\n",
              "      <td>7.00</td>\n",
              "      <td>0.00</td>\n",
              "      <td>1,190.74</td>\n",
              "      <td>2.00</td>\n",
              "      <td>0.00</td>\n",
              "      <td>10.00</td>\n",
              "      <td>4.00</td>\n",
              "      <td>0.00</td>\n",
              "      <td>6.00</td>\n",
              "      <td>5.00</td>\n",
              "      <td>125,111.00</td>\n",
              "      <td>58,226.00</td>\n",
              "      <td>67,872.00</td>\n",
              "      <td>14,906.00</td>\n",
              "      <td>7,597.00</td>\n",
              "      <td>7,617.00</td>\n",
              "      <td>77,612.00</td>\n",
              "      <td>38,841.00</td>\n",
              "      <td>37,942.00</td>\n",
              "      <td>29,172.00</td>\n",
              "      <td>8,563.00</td>\n",
              "      <td>...</td>\n",
              "      <td>808.47</td>\n",
              "      <td>1,333.33</td>\n",
              "      <td>1,075.84</td>\n",
              "      <td>6.00</td>\n",
              "      <td>22.00</td>\n",
              "      <td>26.00</td>\n",
              "      <td>17.00</td>\n",
              "      <td>6.00</td>\n",
              "      <td>2.00</td>\n",
              "      <td>0.00</td>\n",
              "      <td>5.00</td>\n",
              "      <td>10.00</td>\n",
              "      <td>0.00</td>\n",
              "      <td>2.00</td>\n",
              "      <td>29.00</td>\n",
              "      <td>4.00</td>\n",
              "      <td>31.41</td>\n",
              "      <td>13.97</td>\n",
              "      <td>53.00</td>\n",
              "      <td>1,433,847.00</td>\n",
              "      <td>43.00</td>\n",
              "      <td>1,683,836.00</td>\n",
              "      <td>222.00</td>\n",
              "      <td>815.38</td>\n",
              "      <td>1,338.61</td>\n",
              "      <td>1,087.55</td>\n",
              "      <td>15.00</td>\n",
              "      <td>59.00</td>\n",
              "      <td>69.00</td>\n",
              "      <td>51.00</td>\n",
              "      <td>21.00</td>\n",
              "      <td>5.00</td>\n",
              "      <td>1.00</td>\n",
              "      <td>12.00</td>\n",
              "      <td>28.00</td>\n",
              "      <td>1.00</td>\n",
              "      <td>7.00</td>\n",
              "      <td>76.00</td>\n",
              "      <td>10.00</td>\n",
              "      <td>8,300,000.00</td>\n",
              "    </tr>\n",
              "    <tr>\n",
              "      <th>max</th>\n",
              "      <td>30,473.00</td>\n",
              "      <td>5,326.00</td>\n",
              "      <td>7,478.00</td>\n",
              "      <td>77.00</td>\n",
              "      <td>117.00</td>\n",
              "      <td>6.00</td>\n",
              "      <td>2,018.00</td>\n",
              "      <td>19.00</td>\n",
              "      <td>2,014.00</td>\n",
              "      <td>4.00</td>\n",
              "      <td>206,071,809.20</td>\n",
              "      <td>247,469.00</td>\n",
              "      <td>0.85</td>\n",
              "      <td>0.52</td>\n",
              "      <td>19,223.00</td>\n",
              "      <td>11,926.00</td>\n",
              "      <td>13.00</td>\n",
              "      <td>19,083.00</td>\n",
              "      <td>24,750.00</td>\n",
              "      <td>14.00</td>\n",
              "      <td>2.00</td>\n",
              "      <td>4,849.00</td>\n",
              "      <td>6.00</td>\n",
              "      <td>3.00</td>\n",
              "      <td>29.00</td>\n",
              "      <td>16.00</td>\n",
              "      <td>10.00</td>\n",
              "      <td>23.00</td>\n",
              "      <td>141.00</td>\n",
              "      <td>1,716,730.00</td>\n",
              "      <td>774,585.00</td>\n",
              "      <td>942,145.00</td>\n",
              "      <td>40,692.00</td>\n",
              "      <td>20,977.00</td>\n",
              "      <td>19,715.00</td>\n",
              "      <td>161,290.00</td>\n",
              "      <td>79,622.00</td>\n",
              "      <td>81,668.00</td>\n",
              "      <td>57,086.00</td>\n",
              "      <td>19,275.00</td>\n",
              "      <td>...</td>\n",
              "      <td>1,833.33</td>\n",
              "      <td>3,000.00</td>\n",
              "      <td>2,416.67</td>\n",
              "      <td>119.00</td>\n",
              "      <td>449.00</td>\n",
              "      <td>441.00</td>\n",
              "      <td>446.00</td>\n",
              "      <td>266.00</td>\n",
              "      <td>113.00</td>\n",
              "      <td>23.00</td>\n",
              "      <td>102.00</td>\n",
              "      <td>164.00</td>\n",
              "      <td>2.00</td>\n",
              "      <td>85.00</td>\n",
              "      <td>100.00</td>\n",
              "      <td>10.00</td>\n",
              "      <td>75.46</td>\n",
              "      <td>28.56</td>\n",
              "      <td>789.00</td>\n",
              "      <td>12,702,114.00</td>\n",
              "      <td>120.00</td>\n",
              "      <td>4,585,477.00</td>\n",
              "      <td>2,645.00</td>\n",
              "      <td>1,875.00</td>\n",
              "      <td>3,000.00</td>\n",
              "      <td>2,437.50</td>\n",
              "      <td>174.00</td>\n",
              "      <td>650.00</td>\n",
              "      <td>648.00</td>\n",
              "      <td>641.00</td>\n",
              "      <td>377.00</td>\n",
              "      <td>147.00</td>\n",
              "      <td>30.00</td>\n",
              "      <td>151.00</td>\n",
              "      <td>250.00</td>\n",
              "      <td>2.00</td>\n",
              "      <td>106.00</td>\n",
              "      <td>218.00</td>\n",
              "      <td>21.00</td>\n",
              "      <td>111,111,112.00</td>\n",
              "    </tr>\n",
              "  </tbody>\n",
              "</table>\n",
              "<p>8 rows × 276 columns</p>\n",
              "</div>\n",
              "      <button class=\"colab-df-convert\" onclick=\"convertToInteractive('df-1861e722-2064-471a-ad67-86412ce3a95d')\"\n",
              "              title=\"Convert this dataframe to an interactive table.\"\n",
              "              style=\"display:none;\">\n",
              "        \n",
              "  <svg xmlns=\"http://www.w3.org/2000/svg\" height=\"24px\"viewBox=\"0 0 24 24\"\n",
              "       width=\"24px\">\n",
              "    <path d=\"M0 0h24v24H0V0z\" fill=\"none\"/>\n",
              "    <path d=\"M18.56 5.44l.94 2.06.94-2.06 2.06-.94-2.06-.94-.94-2.06-.94 2.06-2.06.94zm-11 1L8.5 8.5l.94-2.06 2.06-.94-2.06-.94L8.5 2.5l-.94 2.06-2.06.94zm10 10l.94 2.06.94-2.06 2.06-.94-2.06-.94-.94-2.06-.94 2.06-2.06.94z\"/><path d=\"M17.41 7.96l-1.37-1.37c-.4-.4-.92-.59-1.43-.59-.52 0-1.04.2-1.43.59L10.3 9.45l-7.72 7.72c-.78.78-.78 2.05 0 2.83L4 21.41c.39.39.9.59 1.41.59.51 0 1.02-.2 1.41-.59l7.78-7.78 2.81-2.81c.8-.78.8-2.07 0-2.86zM5.41 20L4 18.59l7.72-7.72 1.47 1.35L5.41 20z\"/>\n",
              "  </svg>\n",
              "      </button>\n",
              "      \n",
              "  <style>\n",
              "    .colab-df-container {\n",
              "      display:flex;\n",
              "      flex-wrap:wrap;\n",
              "      gap: 12px;\n",
              "    }\n",
              "\n",
              "    .colab-df-convert {\n",
              "      background-color: #E8F0FE;\n",
              "      border: none;\n",
              "      border-radius: 50%;\n",
              "      cursor: pointer;\n",
              "      display: none;\n",
              "      fill: #1967D2;\n",
              "      height: 32px;\n",
              "      padding: 0 0 0 0;\n",
              "      width: 32px;\n",
              "    }\n",
              "\n",
              "    .colab-df-convert:hover {\n",
              "      background-color: #E2EBFA;\n",
              "      box-shadow: 0px 1px 2px rgba(60, 64, 67, 0.3), 0px 1px 3px 1px rgba(60, 64, 67, 0.15);\n",
              "      fill: #174EA6;\n",
              "    }\n",
              "\n",
              "    [theme=dark] .colab-df-convert {\n",
              "      background-color: #3B4455;\n",
              "      fill: #D2E3FC;\n",
              "    }\n",
              "\n",
              "    [theme=dark] .colab-df-convert:hover {\n",
              "      background-color: #434B5C;\n",
              "      box-shadow: 0px 1px 3px 1px rgba(0, 0, 0, 0.15);\n",
              "      filter: drop-shadow(0px 1px 2px rgba(0, 0, 0, 0.3));\n",
              "      fill: #FFFFFF;\n",
              "    }\n",
              "  </style>\n",
              "\n",
              "      <script>\n",
              "        const buttonEl =\n",
              "          document.querySelector('#df-1861e722-2064-471a-ad67-86412ce3a95d button.colab-df-convert');\n",
              "        buttonEl.style.display =\n",
              "          google.colab.kernel.accessAllowed ? 'block' : 'none';\n",
              "\n",
              "        async function convertToInteractive(key) {\n",
              "          const element = document.querySelector('#df-1861e722-2064-471a-ad67-86412ce3a95d');\n",
              "          const dataTable =\n",
              "            await google.colab.kernel.invokeFunction('convertToInteractive',\n",
              "                                                     [key], {});\n",
              "          if (!dataTable) return;\n",
              "\n",
              "          const docLinkHtml = 'Like what you see? Visit the ' +\n",
              "            '<a target=\"_blank\" href=https://colab.research.google.com/notebooks/data_table.ipynb>data table notebook</a>'\n",
              "            + ' to learn more about interactive tables.';\n",
              "          element.innerHTML = '';\n",
              "          dataTable['output_type'] = 'display_data';\n",
              "          await google.colab.output.renderOutput(dataTable, element);\n",
              "          const docLink = document.createElement('div');\n",
              "          docLink.innerHTML = docLinkHtml;\n",
              "          element.appendChild(docLink);\n",
              "        }\n",
              "      </script>\n",
              "    </div>\n",
              "  </div>\n",
              "  "
            ],
            "text/plain": [
              "             id   full_sq  ...  market_count_5000      price_doc\n",
              "count 30,471.00 30,471.00  ...          30,471.00      30,471.00\n",
              "mean  15,237.92     54.21  ...               5.99   7,123,035.28\n",
              "std    8,796.50     38.03  ...               4.89   4,780,111.33\n",
              "min        1.00      0.00  ...               0.00     100,000.00\n",
              "25%    7,620.50     38.00  ...               1.00   4,740,002.00\n",
              "50%   15,238.00     49.00  ...               5.00   6,274,411.00\n",
              "75%   22,855.50     63.00  ...              10.00   8,300,000.00\n",
              "max   30,473.00  5,326.00  ...              21.00 111,111,112.00\n",
              "\n",
              "[8 rows x 276 columns]"
            ]
          },
          "metadata": {},
          "execution_count": 303
        }
      ]
    },
    {
      "cell_type": "markdown",
      "source": [
        "### Проверим, сколько пропущенных значений в данных "
      ],
      "metadata": {
        "id": "qUec7A_vvm_n"
      }
    },
    {
      "cell_type": "code",
      "source": [
        "df_copy = df\n",
        "\n",
        "missings_df = {}\n",
        "for key in df_copy.columns:\n",
        "    if df_copy[key].isnull().sum() > 0:\n",
        "        missings_df[key] = (df_copy[key].isnull().sum()  /  len(df_copy[key]) ) * 100\n",
        "\n",
        "missings_df = pd.DataFrame(missings_df,index=['Missing']).T.sort_values(by='Missing',ascending=False)\n",
        "\n",
        "plt.figure(figsize=(15,7),dpi=100)\n",
        "plt.xticks(rotation=90)\n",
        "sns.barplot(y=missings_df.Missing, x = missings_df.index, orient='v').set_title('% пропущенных значений для каждого признака')\n",
        "print( f\" {missings_df.shape[0]} колонка(и) содержат  пропущенные значения.\")"
      ],
      "metadata": {
        "colab": {
          "base_uri": "https://localhost:8080/",
          "height": 879
        },
        "id": "-4RPmTHXwDGj",
        "outputId": "595227f3-278f-405b-fd17-6d1413b6d11a"
      },
      "execution_count": 10,
      "outputs": [
        {
          "output_type": "stream",
          "name": "stdout",
          "text": [
            " 51 колонка(и) содержат  пропущенные значения.\n"
          ]
        },
        {
          "output_type": "display_data",
          "data": {
            "image/png": "[encoded data removed]",
            "text/plain": [
              "<Figure size 1500x700 with 1 Axes>"
            ]
          },
          "metadata": {
            "needs_background": "light"
          }
        }
      ]
    },
    {
      "cell_type": "markdown",
      "source": [
        "### Отредактируем признаки для моделей обучения"
      ],
      "metadata": {
        "id": "iGgya78Dzmqb"
      }
    },
    {
      "cell_type": "markdown",
      "source": [
        "В наборе данных мы видим признаки с вещественными числами (NUMERIC_COLS_WITH_MISSING_VALUES), категориальные признаики ,имеющие строковый  тип (CATEGORICAL_COLS ),  категориальные признаки с  пропущенными значениями STRING_COLS_WITH_MISSING_VALUES . \n",
        "Создадим метод для предобработки данных, который  будет преобразовывать набор, переданный ему в качестве аргумента.\n",
        "Метод будет заменять пропущенные значения , преобразовывать строковые категориальные двнные в числовые, и применяет к маштабирование к числовым признакам.\n",
        "\n"
      ],
      "metadata": {
        "id": "qHVHZZQZ1cYo"
      }
    },
    {
      "cell_type": "code",
      "source": [
        "\n",
        "NUMERIC_COLS_WITH_MISSING_VALUES = ['0_6_all', 'cafe_avg_price_1500', 'build_count_slag', 'green_part_1000', 'cafe_count_1000', 'mosque_count_1500', \n",
        "           'railroad_station_avto_min', 'market_shop_km', 'build_count_foam', 'sport_count_1000', 'material', 'leisure_count_5000', 'cafe_count_3000_price_1000', \n",
        "           'mosque_count_5000', 'big_church_count_500', 'preschool_education_centers_raion', 'green_zone_part', '16_29_male', 'school_km', 'hospice_morgue_km', \n",
        "           'power_transmission_line_km', 'mosque_count_1000', 'university_top_20_raion', 'ID_bus_terminal', 'cafe_count_2000', 'school_education_centers_top_20_raion', \n",
        "           'raion_build_count_with_builddate_info', '7_14_male', 'prom_part_5000', 'cafe_sum_5000_max_price_avg', 'exhibition_km', 'big_road1_km', \n",
        "           'cafe_count_3000_na_price', 'big_church_count_3000', 'cafe_count_1500_price_high', 'metro_km_avto', 'young_female', 'cafe_count_500_price_4000', \n",
        "           'cafe_sum_1500_min_price_avg', 'area_m', 'prom_part_2000', 'green_part_3000', 'mosque_count_500', 'green_part_1500', 'cafe_count_3000_price_high', \n",
        "           'life_sq', 'sadovoe_km', 'church_count_3000', 'build_count_brick', 'sport_count_500', 'office_count_1500', 'school_education_centers_raion', \n",
        "           'cafe_count_5000_price_4000', 'trc_sqm_1500', 'workplaces_km', '0_17_all', '0_6_male', 'office_raion', 'ID_railroad_station_walk', 'cafe_count_1500', \n",
        "           'cafe_avg_price_5000', 'market_count_500', 'water_km', 'cafe_count_5000', 'industrial_km', 'cafe_count_2000_price_4000', 'cafe_count_1500_price_4000', \n",
        "           'market_count_2000', 'cafe_count_500_price_2500', 'cafe_avg_price_1000', 'metro_km_walk', 'church_count_500', 'healthcare_centers_raion', \n",
        "           'shopping_centers_km', 'cafe_count_3000_price_500', 'trc_count_1000', 'cafe_sum_2000_min_price_avg', 'cafe_count_500_price_1500', 'market_count_5000', \n",
        "           'kindergarten_km', 'cafe_count_500_price_high', 'big_road2_km', 'ID_railroad_station_avto', 'male_f', 'culture_objects_top_25_raion', 'office_count_2000', \n",
        "           'office_count_1000', 'build_count_panel', 'public_transport_station_min_walk', 'cafe_sum_1000_max_price_avg', 'cafe_count_1000_price_1500', '7_14_female',\n",
        "            'build_count_frame', 'trc_count_500', '0_13_female', 'leisure_count_1500', 'cafe_count_3000_price_2500', 'water_treatment_km', 'green_zone_km', \n",
        "            'cafe_count_2000_price_high', 'work_male', 'full_all', 'cafe_sum_500_min_price_avg', 'trc_sqm_500', 'big_church_count_2000', 'trc_sqm_3000', \n",
        "            '0_17_female', '16_29_all', 'trc_sqm_5000', 'build_count_wood', 'cafe_count_1500_price_1000', 'bus_terminal_avto_km', 'build_count_1971-1995', \n",
        "            '16_29_female', 'oil_chemistry_km', 'park_km', 'office_sqm_1000', 'cafe_count_1000_na_price', 'cafe_sum_3000_max_price_avg', 'cafe_count_5000_price_1500',\n",
        "             'big_church_count_1000', 'green_part_5000', 'work_female', 'public_transport_station_km', 'ID_metro', 'build_year', 'cafe_count_2000_price_1500', \n",
        "             'cafe_count_1000_price_500', 'office_sqm_500', 'green_part_2000', 'cafe_avg_price_2000', 'radiation_km', 'leisure_count_2000', 'cafe_count_500_price_1000', \n",
        "             'museum_km', '0_6_female', 'church_count_2000', 'cafe_count_5000_price_1000', 'cemetery_km', 'cafe_sum_3000_min_price_avg', 'cafe_count_500', \n",
        "             'hospital_beds_raion', 'railroad_km', 'sport_count_1500', 'cafe_count_3000_price_4000', '0_17_male', 'railroad_station_walk_min', \n",
        "             'cafe_sum_500_max_price_avg', 'big_church_count_5000', 'ts_km', 'railroad_station_avto_km', 'raion_popul', 'trc_count_3000', 'sport_objects_raion', \n",
        "             'cafe_count_1500_na_price', 'cafe_sum_2000_max_price_avg', 'swim_pool_km', 'cafe_count_2000_price_2500', 'big_market_km', 'cafe_sum_5000_min_price_avg', \n",
        "             'cafe_count_5000_price_2500', 'full_sq', 'build_count_monolith', 'prom_part_500', 'nuclear_reactor_km', 'additional_education_raion', 'leisure_count_1000', \n",
        "             'cafe_count_2000_na_price', 'bulvar_ring_km', 'cafe_count_1500_price_500', 'state', 'mosque_km', 'cafe_count_5000_price_high', 'sport_count_3000',\n",
        "              'market_count_1500', 'incineration_km', 'cafe_sum_1500_max_price_avg', 'cafe_avg_price_3000', 'cafe_avg_price_500', 'build_count_after_1995', \n",
        "              'stadium_km', 'sport_count_5000', '0_13_all', 'theater_km', 'railroad_station_walk_km', 'public_healthcare_km', 'trc_sqm_2000', 'big_church_km', \n",
        "              'zd_vokzaly_avto_km', 'office_sqm_3000', 'mkad_km', 'build_count_before_1920', 'raion_build_count_with_material_info', 'preschool_quota', '7_14_all',\n",
        "               'metro_min_avto', 'office_km', 'prom_part_1500', 'university_km', 'children_preschool', 'trc_count_5000', 'church_count_1000', 'fitness_km', \n",
        "               'trc_sqm_1000', 'office_sqm_2000', 'prom_part_3000', 'kitch_sq', 'shopping_centers_raion', 'cafe_count_1500_price_2500', 'cafe_count_2000_price_1000', \n",
        "               'cafe_count_500_price_500', 'school_quota', 'cafe_sum_1000_min_price_avg', 'office_count_3000', 'young_all', 'ID_big_road2', 'church_synagogue_km', \n",
        "               'trc_count_1500', 'indust_part', 'market_count_1000', 'office_count_5000', 'preschool_km', 'kremlin_km', 'young_male', 'office_count_500',\n",
        "                'leisure_count_500', 'ekder_female', 'big_church_count_1500', 'cafe_count_1000_price_1000', 'office_sqm_5000', 'ID_railroad_terminal', 'ttk_km', \n",
        "                'thermal_power_plant_km', 'basketball_km', 'cafe_count_1000_price_4000', '0_13_male', 'max_floor', 'detention_facility_km', 'build_count_1946-1970', \n",
        "                'ice_rink_km', 'cafe_count_1000_price_high', 'prom_part_1000', 'mosque_count_3000', 'ID_big_road1', 'female_f', 'metro_min_walk',\n",
        "                 'cafe_count_3000_price_1500', 'cafe_count_5000_price_500', 'cafe_count_3000', 'cafe_count_1500_price_1500', 'church_count_5000', \n",
        "                 'additional_education_km', 'trc_count_2000', 'work_all', 'cafe_count_500_na_price', 'church_count_1500', 'ekder_male', 'cafe_count_1000_price_2500', \n",
        "                 'ekder_all', 'leisure_count_3000', 'green_part_500', 'build_count_block', 'build_count_mix', 'children_school', 'office_sqm_1500', 'floor', \n",
        "                 'cafe_count_2000_price_500', 'cafe_count_5000_na_price', 'price_doc', 'catering_km', 'build_count_1921-1945', 'sport_count_2000', 'mosque_count_2000',\n",
        "                  'num_room', 'market_count_3000']\n",
        "                \n",
        "\n",
        "STRING_COLS_WITH_MISSING_VALUES = ['nuclear_reactor_raion', 'product_type', 'radiation_raion', 'incineration_raion', 'railroad_terminal_raion',\n",
        "                                   'big_road1_1line', 'water_1line', 'thermal_power_plant_raion', 'oil_chemistry_raion', 'big_market_raion', \n",
        "                                   'detention_facility_raion', 'ecology', 'railroad_1line', 'sub_area', 'timestamp', 'culture_objects_top_25']  \n",
        "\n",
        "CATEGORICAL_COLS = ['product_type', 'sub_area', 'culture_objects_top_25', 'thermal_power_plant_raion', 'incineration_raion', 'oil_chemistry_raion', \n",
        "                    'radiation_raion', 'railroad_terminal_raion', 'big_market_raion', 'nuclear_reactor_raion', 'detention_facility_raion', 'water_1line', \n",
        "                    'big_road1_1line', 'railroad_1line', 'ecology']  \n",
        "\n",
        "COLS_FOR_DROP = ['id', 'timestamp']  \n",
        "\n",
        "NUMERIC_COLS_TO_SCALE = ['full_sq', 'life_sq', 'floor', 'max_floor', 'material', 'build_year', 'num_room', 'kitch_sq', 'state', 'area_m', 'raion_popul', \n",
        "                         'green_zone_part', 'indust_part', 'children_preschool', 'preschool_quota', 'preschool_education_centers_raion', 'children_school',\n",
        "                         'school_quota', 'school_education_centers_raion', 'school_education_centers_top_20_raion', 'hospital_beds_raion', \n",
        "                         'healthcare_centers_raion', 'university_top_20_raion', 'sport_objects_raion', 'additional_education_raion', \n",
        "                         'culture_objects_top_25_raion', 'shopping_centers_raion', 'office_raion', 'full_all', 'male_f', 'female_f', 'young_all', \n",
        "                         'young_male', 'young_female', 'work_all', 'work_male', 'work_female', 'ekder_all', 'ekder_male', 'ekder_female', '0_6_all', \n",
        "                         '0_6_male', '0_6_female', '7_14_all', '7_14_male', '7_14_female', '0_17_all', '0_17_male', '0_17_female', '16_29_all', '16_29_male', \n",
        "                         '16_29_female', '0_13_all', '0_13_male', '0_13_female', 'raion_build_count_with_material_info', 'build_count_block', 'build_count_wood', 'build_count_frame', 'build_count_brick', 'build_count_monolith', 'build_count_panel', 'build_count_foam', 'build_count_slag', 'build_count_mix', 'raion_build_count_with_builddate_info', 'build_count_before_1920', 'build_count_1921-1945', 'build_count_1946-1970', 'build_count_1971-1995', 'build_count_after_1995', 'ID_metro', 'metro_min_avto', 'metro_km_avto', 'metro_min_walk', 'metro_km_walk', 'kindergarten_km', 'school_km', 'park_km', 'green_zone_km', 'industrial_km', 'water_treatment_km', 'cemetery_km', 'incineration_km', 'railroad_station_walk_km', 'railroad_station_walk_min', 'ID_railroad_station_walk', 'railroad_station_avto_km', 'railroad_station_avto_min', 'ID_railroad_station_avto', 'public_transport_station_km', 'public_transport_station_min_walk', 'water_km', 'mkad_km', 'ttk_km', 'sadovoe_km', 'bulvar_ring_km', 'kremlin_km', 'big_road1_km', 'ID_big_road1', 'big_road2_km', 'ID_big_road2', 'railroad_km', 'zd_vokzaly_avto_km', 'ID_railroad_terminal', 'bus_terminal_avto_km', 'ID_bus_terminal', 'oil_chemistry_km', 'nuclear_reactor_km', 'radiation_km', 'power_transmission_line_km', 'thermal_power_plant_km', 'ts_km', 'big_market_km', 'market_shop_km', 'fitness_km', 'swim_pool_km', 'ice_rink_km', 'stadium_km', 'basketball_km', 'hospice_morgue_km', 'detention_facility_km', 'public_healthcare_km', 'university_km', 'workplaces_km', 'shopping_centers_km', 'office_km', 'additional_education_km', 'preschool_km', 'big_church_km', 'church_synagogue_km', 'mosque_km', 'theater_km', 'museum_km', 'exhibition_km', 'catering_km', 'green_part_500', 'prom_part_500', 'office_count_500', 'office_sqm_500', 'trc_count_500', 'trc_sqm_500', 'cafe_count_500', 'cafe_sum_500_min_price_avg', 'cafe_sum_500_max_price_avg', 'cafe_avg_price_500', 'cafe_count_500_na_price', 'cafe_count_500_price_500', 'cafe_count_500_price_1000', 'cafe_count_500_price_1500', 'cafe_count_500_price_2500', 'cafe_count_500_price_4000', 'cafe_count_500_price_high', 'big_church_count_500', 'church_count_500', 'mosque_count_500', 'leisure_count_500', 'sport_count_500', 'market_count_500', 'green_part_1000', 'prom_part_1000', 'office_count_1000', 'office_sqm_1000', 'trc_count_1000', 'trc_sqm_1000', 'cafe_count_1000', 'cafe_sum_1000_min_price_avg', 'cafe_sum_1000_max_price_avg', 'cafe_avg_price_1000', 'cafe_count_1000_na_price', 'cafe_count_1000_price_500', 'cafe_count_1000_price_1000', 'cafe_count_1000_price_1500', 'cafe_count_1000_price_2500', 'cafe_count_1000_price_4000', 'cafe_count_1000_price_high', 'big_church_count_1000', 'church_count_1000', 'mosque_count_1000', 'leisure_count_1000', 'sport_count_1000', 'market_count_1000', 'green_part_1500', 'prom_part_1500', 'office_count_1500', 'office_sqm_1500', 'trc_count_1500', 'trc_sqm_1500', 'cafe_count_1500', 'cafe_sum_1500_min_price_avg', 'cafe_sum_1500_max_price_avg', 'cafe_avg_price_1500', 'cafe_count_1500_na_price', 'cafe_count_1500_price_500', 'cafe_count_1500_price_1000', 'cafe_count_1500_price_1500', 'cafe_count_1500_price_2500', 'cafe_count_1500_price_4000', 'cafe_count_1500_price_high', 'big_church_count_1500', 'church_count_1500', 'mosque_count_1500', 'leisure_count_1500', 'sport_count_1500', 'market_count_1500', 'green_part_2000', 'prom_part_2000', 'office_count_2000', 'office_sqm_2000', 'trc_count_2000', 'trc_sqm_2000', 'cafe_count_2000', 'cafe_sum_2000_min_price_avg', 'cafe_sum_2000_max_price_avg', 'cafe_avg_price_2000', 'cafe_count_2000_na_price', 'cafe_count_2000_price_500', 'cafe_count_2000_price_1000', 'cafe_count_2000_price_1500', 'cafe_count_2000_price_2500', 'cafe_count_2000_price_4000', 'cafe_count_2000_price_high', 'big_church_count_2000', 'church_count_2000', 'mosque_count_2000', 'leisure_count_2000', 'sport_count_2000', 'market_count_2000', 'green_part_3000', 'prom_part_3000', 'office_count_3000', 'office_sqm_3000', 'trc_count_3000', 'trc_sqm_3000', 'cafe_count_3000', 'cafe_sum_3000_min_price_avg', 'cafe_sum_3000_max_price_avg', 'cafe_avg_price_3000', 'cafe_count_3000_na_price', 'cafe_count_3000_price_500', 'cafe_count_3000_price_1000', 'cafe_count_3000_price_1500', 'cafe_count_3000_price_2500', 'cafe_count_3000_price_4000', 'cafe_count_3000_price_high', 'big_church_count_3000', 'church_count_3000', 'mosque_count_3000', 'leisure_count_3000', 'sport_count_3000', 'market_count_3000', 'green_part_5000', 'prom_part_5000', 'office_count_5000', 'office_sqm_5000', 'trc_count_5000', 'trc_sqm_5000', 'cafe_count_5000', 'cafe_sum_5000_min_price_avg', 'cafe_sum_5000_max_price_avg', 'cafe_avg_price_5000', 'cafe_count_5000_na_price', 'cafe_count_5000_price_500', 'cafe_count_5000_price_1000', 'cafe_count_5000_price_1500', 'cafe_count_5000_price_2500', 'cafe_count_5000_price_4000', 'cafe_count_5000_price_high', 'big_church_count_5000', 'church_count_5000', 'mosque_count_5000', 'leisure_count_5000', 'sport_count_5000', 'market_count_5000', 'price_doc']\n",
        "\n",
        "\n"
      ],
      "metadata": {
        "id": "IDFmtEwv5YMI"
      },
      "execution_count": 11,
      "outputs": []
    },
    {
      "cell_type": "code",
      "source": [
        "def process_data(data):\n",
        "\n",
        "  for col in NUMERIC_COLS_WITH_MISSING_VALUES:\n",
        "    if col in data:\n",
        "      imputer = SimpleImputer(missing_values = np.nan, strategy = 'mean')\n",
        "      data[col] = imputer.fit_transform(data[col].values.reshape(-1,1))[:,0]\n",
        "\n",
        "\n",
        "  for col in STRING_COLS_WITH_MISSING_VALUES:\n",
        "    if col in data:\n",
        "      imputer = SimpleImputer(missing_values = np.nan, strategy='most_frequent')\n",
        "      data[col] = imputer.fit_transform(data[col].values.reshape(-1,1))[:,0]\n",
        "\n",
        "  ord_encoder = OrdinalEncoder(handle_unknown = \"use_encoded_value\", unknown_value = -1)\n",
        "  data[CATEGORICAL_COLS] = pd.DataFrame(ord_encoder .fit_transform(data[CATEGORICAL_COLS]), columns=CATEGORICAL_COLS)\n",
        "\n",
        "  for col in CATEGORICAL_COLS:\n",
        "    data[col] = data[col].apply(lambda x: int(x) if x == x else \"\")\n",
        "\n",
        "  for col in COLS_FOR_DROP:\n",
        "    data = data.drop(col, 1)\n",
        "\n",
        "  for col in NUMERIC_COLS_TO_SCALE:\n",
        "    if col in data:\n",
        "      data[col] = np.log1p(data[col])\n",
        "    \n",
        "  return data"
      ],
      "metadata": {
        "id": "ade8AKcbzzjH"
      },
      "execution_count": 12,
      "outputs": []
    },
    {
      "cell_type": "markdown",
      "source": [
        "## Разобьем данные на тестовый, обучающий и валидационный наборы"
      ],
      "metadata": {
        "id": "ghwRE1cOAB2k"
      }
    },
    {
      "cell_type": "code",
      "source": [
        "target = 'price_doc'\n",
        "y = df[target]\n",
        "X = df.drop(target, 1)\n",
        "X_train, X_val, y_train, y_val = train_test_split(X, y, test_size = 0.3, random_state = 42)\n",
        "\n",
        "X_train  = process_data(X_train)\n",
        "X_val  = process_data(X_val)\n",
        "X_test = process_data(raw_test_data)"
      ],
      "metadata": {
        "id": "BUSVRQ7VAIWa"
      },
      "execution_count": 13,
      "outputs": []
    },
    {
      "cell_type": "markdown",
      "source": [
        "## Проанализируем целевую переменную и другие признаки"
      ],
      "metadata": {
        "id": "8-k81pVMWaJH"
      }
    },
    {
      "cell_type": "markdown",
      "source": [
        "Построим график распределения целевой переменной: видим что целевая переменная смещена и данные на правой части оси сильно разрежены. Для оптимального построения модели( чтобы данные выбросы не влияли ) применим логорифмирование. (Именно поэтому в методе подготовки данных применено логарифмирование к числовым признакам)"
      ],
      "metadata": {
        "id": "xYS27cD9aykm"
      }
    },
    {
      "cell_type": "code",
      "source": [
        "train = X\n",
        "train[target] = y\n",
        "\n",
        "fig = plt.figure(figsize = (16,6))\n",
        "fig.add_subplot(1,2,1)\n",
        "sns.histplot(train[target],kde = True,);\n",
        "\n",
        "fig.add_subplot(1,2,2)\n",
        "sns.histplot(np.log1p(train[target]),kde=True);"
      ],
      "metadata": {
        "colab": {
          "base_uri": "https://localhost:8080/",
          "height": 389
        },
        "id": "s7fTifs7WjLO",
        "outputId": "7f7994d7-9735-4fe4-9fd3-338ae88eb1e3"
      },
      "execution_count": 15,
      "outputs": [
        {
          "output_type": "display_data",
          "data": {
            "image/png": "[encoded data removed]",
            "text/plain": [
              "<Figure size 1152x432 with 2 Axes>"
            ]
          },
          "metadata": {
            "needs_background": "light"
          }
        }
      ]
    },
    {
      "cell_type": "markdown",
      "source": [
        "посмотрим на зависимость  целевой переменной  от признаковю Видим, что они слабо скореллированы. С существенным отрывом  Выделяются признаки num_room              и\n",
        "full_sq . Можно выдвинуть гипотезу, что они внесут существенный вклад в результат модели"
      ],
      "metadata": {
        "id": "gckdpaCfbi9j"
      }
    },
    {
      "cell_type": "code",
      "source": [
        "main_corr = train.corr()[target][abs(train.corr())[target]>0.2].head().sort_values(ascending=False)\n",
        "main_corr\n"
      ],
      "metadata": {
        "colab": {
          "base_uri": "https://localhost:8080/"
        },
        "id": "HJf9EuboZoAc",
        "outputId": "ab42e500-b962-4b4c-88cf-79cf18618294"
      },
      "execution_count": 80,
      "outputs": [
        {
          "output_type": "execute_result",
          "data": {
            "text/plain": [
              "num_room               0.48\n",
              "full_sq                0.34\n",
              "sport_objects_raion    0.25\n",
              "ttk_km                -0.27\n",
              "sadovoe_km            -0.28\n",
              "Name: price_doc, dtype: float64"
            ]
          },
          "metadata": {},
          "execution_count": 80
        }
      ]
    },
    {
      "cell_type": "markdown",
      "source": [
        "Посмотрим на распределение первых 2х признаков:  в признаке 'full_sq' также видим выбросы. Попробуем прологарифмировать.\n"
      ],
      "metadata": {
        "id": "QWNrsk-bfPsa"
      }
    },
    {
      "cell_type": "code",
      "source": [
        "fig = plt.figure(figsize = (16,6))\n",
        "sns.pairplot(train[['full_sq', target]])"
      ],
      "metadata": {
        "colab": {
          "base_uri": "https://localhost:8080/",
          "height": 409
        },
        "id": "NCBseYj0fQXm",
        "outputId": "2df08cbb-efa5-4d26-86e5-2c5375c99822"
      },
      "execution_count": 88,
      "outputs": [
        {
          "output_type": "execute_result",
          "data": {
            "text/plain": [
              "<seaborn.axisgrid.PairGrid at 0x7f52cf609b90>"
            ]
          },
          "metadata": {},
          "execution_count": 88
        },
        {
          "output_type": "display_data",
          "data": {
            "text/plain": [
              "<Figure size 1152x432 with 0 Axes>"
            ]
          },
          "metadata": {}
        },
        {
          "output_type": "display_data",
          "data": {
            "image/png": "[encoded data removed]",
            "text/plain": [
              "<Figure size 360x360 with 6 Axes>"
            ]
          },
          "metadata": {
            "needs_background": "light"
          }
        }
      ]
    },
    {
      "cell_type": "code",
      "source": [
        "sns.histplot(np.log1p(train['full_sq']),kde = True,);\n"
      ],
      "metadata": {
        "colab": {
          "base_uri": "https://localhost:8080/",
          "height": 280
        },
        "id": "79PZmYwLhSXY",
        "outputId": "2074ed81-f762-4fce-b8b5-aa9baa09364b"
      },
      "execution_count": 89,
      "outputs": [
        {
          "output_type": "display_data",
          "data": {
            "image/png": "[encoded data removed]",
            "text/plain": [
              "<Figure size 432x288 with 1 Axes>"
            ]
          },
          "metadata": {
            "needs_background": "light"
          }
        }
      ]
    },
    {
      "cell_type": "markdown",
      "source": [
        ""
      ],
      "metadata": {
        "id": "EeTHmuYeieLi"
      }
    },
    {
      "cell_type": "code",
      "source": [
        "train['num_room'].hist()\n",
        "sns.pairplot(train[['num_room', target]])"
      ],
      "metadata": {
        "colab": {
          "base_uri": "https://localhost:8080/",
          "height": 639
        },
        "id": "H_-z6vDSier8",
        "outputId": "1eeefed7-b533-4ae6-d47d-1d9f6919c404"
      },
      "execution_count": 90,
      "outputs": [
        {
          "output_type": "execute_result",
          "data": {
            "text/plain": [
              "<seaborn.axisgrid.PairGrid at 0x7f52ce160490>"
            ]
          },
          "metadata": {},
          "execution_count": 90
        },
        {
          "output_type": "display_data",
          "data": {
            "image/png": "[encoded data removed]",
            "text/plain": [
              "<Figure size 432x288 with 1 Axes>"
            ]
          },
          "metadata": {
            "needs_background": "light"
          }
        },
        {
          "output_type": "display_data",
          "data": {
            "image/png": "[encoded data removed]",
            "text/plain": [
              "<Figure size 360x360 with 6 Axes>"
            ]
          },
          "metadata": {
            "needs_background": "light"
          }
        }
      ]
    },
    {
      "cell_type": "markdown",
      "source": [
        ""
      ],
      "metadata": {
        "id": "tXt_IrBmi68S"
      }
    },
    {
      "cell_type": "markdown",
      "source": [
        "## Создание новых признаков"
      ],
      "metadata": {
        "id": "kQy5A8v2jUy1"
      }
    },
    {
      "cell_type": "markdown",
      "source": [
        "все мои попытки создать новые фичи, например последний или первый этаж или транспорто доступный район не привели к тому, чтобы новый признак появился в первых 30 элементах в feature-importances, аналогично с гипотезами, единственная, которая подтвердилась, что площадь (full_sq) существенно влияет на результат."
      ],
      "metadata": {
        "id": "nYwPud4EjdMQ"
      }
    },
    {
      "cell_type": "markdown",
      "source": [
        "## 2. Построим модель"
      ],
      "metadata": {
        "id": "6E27HK-y_Gen"
      }
    },
    {
      "cell_type": "code",
      "source": [
        "#!pip install -q catboost shap"
      ],
      "metadata": {
        "id": "OEqD_ebJ_OwI"
      },
      "execution_count": null,
      "outputs": []
    },
    {
      "cell_type": "code",
      "source": [
        "from catboost import CatBoostRegressor\n",
        "from sklearn.metrics import mean_squared_log_error\n",
        "from sklearn.metrics import mean_squared_error\n",
        "\n",
        "from sklearn.metrics import mean_absolute_error\n",
        "from sklearn.metrics import r2_score"
      ],
      "metadata": {
        "id": "VQ-Q0NPu_a2G"
      },
      "execution_count": 17,
      "outputs": []
    },
    {
      "cell_type": "markdown",
      "source": [
        "Выбран алгоритм CatBoost, тк он наиболее быстро проходит стадию обучения ( XGBoost на таком же наборе данных обучался порядка 2 х часов), также существенным критерием выбора было удобство работы данного алгоритма скатегориальными фичами - добавление их как аргумента существенно улучшило score модели.\n",
        "При выборе гипер параметров сократила число итеракций до 500, тк при выбранной метрике алгоритм сходился ранее этого значения. Также пробовала \"самописную\" , найденную на просторах сети, eval -metric RMSLE, тк в данных соремнования указано что оенивание идет по этой метрике. Попытка была неудачной."
      ],
      "metadata": {
        "id": "AnevGN_LkkrW"
      }
    },
    {
      "cell_type": "code",
      "source": [
        "def rmse(y_true, y_pred):\n",
        "    return round(np.sqrt(mean_squared_error(y_true, y_pred)), 5)\n",
        "\n",
        "def run_catboost(X_train, y_train, X_val, y_val, X_test):\n",
        "    model = CatBoostRegressor(iterations=500,\n",
        "                             learning_rate=0.05,\n",
        "                             depth=10,\n",
        "                             eval_metric='RMSE',\n",
        "                             random_seed = 42,\n",
        "                             bagging_temperature = 0.2,\n",
        "                             od_type='Iter',\n",
        "                             metric_period = 50,\n",
        "                             od_wait=20)\n",
        "    \n",
        "    model.fit(X_train, y_train,\n",
        "              eval_set=(X_val, y_val),\n",
        "              use_best_model=True,\n",
        "              verbose=True,\n",
        "              cat_features = CATEGORICAL_COLS)\n",
        "    \n",
        "    y_pred_train = model.predict(X_train)\n",
        "    y_pred_val = model.predict(X_val)\n",
        "    y_pred_submit = model.predict(X_test)\n",
        "\n",
        "    print(f\"mean absolute error: {mean_squared_error(y_pred_val, y_val)}\")\n",
        "    print(f\"mean absolute error: {mean_absolute_error(y_pred_val, y_val)}\")\n",
        "    print(f\"r2 score: {r2_score(y_pred_val, y_val)}\")\n",
        "    print(f\"mean squared log error: {mean_squared_log_error(y_pred_val, y_val)}\")\n",
        "\n",
        "    print(f\"CatB: RMSE val: {rmse(y_val, y_pred_val)}  - RMSE train: {rmse(y_train, y_pred_train)}\")\n",
        "    return y_pred_submit, model"
      ],
      "metadata": {
        "id": "0HcAAYdMK106"
      },
      "execution_count": 18,
      "outputs": []
    },
    {
      "cell_type": "code",
      "source": [
        "%%time\n",
        "# Train Catboost and generate predictions\n",
        "y_preds_test, cat_model = run_catboost(X_train, y_train, X_val, y_val,  X_test)"
      ],
      "metadata": {
        "colab": {
          "base_uri": "https://localhost:8080/"
        },
        "id": "M5rUQf-oLJ9M",
        "outputId": "06fbd14a-ee2b-4da1-9a3d-e060585248e1"
      },
      "execution_count": 19,
      "outputs": [
        {
          "output_type": "stream",
          "name": "stderr",
          "text": [
            "Warning: Overfitting detector is active, thus evaluation metric is calculated on every iteration. 'metric_period' is ignored for evaluation metric.\n"
          ]
        },
        {
          "output_type": "stream",
          "name": "stdout",
          "text": [
            "0:\tlearn: 4709285.8059662\ttest: 4503046.1744588\tbest: 4503046.1744588 (0)\ttotal: 765ms\tremaining: 6m 21s\n",
            "50:\tlearn: 2592965.6679442\ttest: 2792608.8514830\tbest: 2792608.8514830 (50)\ttotal: 35.6s\tremaining: 5m 13s\n",
            "100:\tlearn: 2226861.4678756\ttest: 2653898.7129787\tbest: 2653898.7129787 (100)\ttotal: 1m 18s\tremaining: 5m 8s\n",
            "150:\tlearn: 2101990.8446187\ttest: 2614644.4852912\tbest: 2614644.4852912 (150)\ttotal: 1m 52s\tremaining: 4m 21s\n",
            "200:\tlearn: 2018811.7572190\ttest: 2595518.5239188\tbest: 2595518.5239188 (200)\ttotal: 2m 26s\tremaining: 3m 38s\n",
            "250:\tlearn: 1943596.2451062\ttest: 2578885.8402588\tbest: 2578885.8402588 (250)\ttotal: 3m\tremaining: 2m 59s\n",
            "300:\tlearn: 1879970.1555855\ttest: 2570158.6834268\tbest: 2570158.6834268 (300)\ttotal: 3m 33s\tremaining: 2m 21s\n",
            "350:\tlearn: 1813082.4985816\ttest: 2561320.4626701\tbest: 2561287.2771367 (348)\ttotal: 4m 6s\tremaining: 1m 44s\n",
            "Stopped by overfitting detector  (20 iterations wait)\n",
            "\n",
            "bestTest = 2558743.484\n",
            "bestIteration = 372\n",
            "\n",
            "Shrink model to first 373 iterations.\n",
            "mean absolute error: 6547168218903.539\n",
            "mean absolute error: 1354104.7488818222\n",
            "r2 score: 0.5142308242600021\n",
            "mean squared log error: 0.22722876431309566\n",
            "CatB: RMSE val: 2558743.48439  - RMSE train: 1801195.90297\n",
            "CPU times: user 8min 21s, sys: 2.37 s, total: 8min 23s\n",
            "Wall time: 4min 35s\n"
          ]
        }
      ]
    },
    {
      "cell_type": "markdown",
      "source": [
        "##  Проанализируем важность признаков"
      ],
      "metadata": {
        "id": "QL6D0luXnN4k"
      }
    },
    {
      "cell_type": "code",
      "source": [
        "def plot_feature_importance(importance,names,model_type):\n",
        "    \n",
        "    #Create arrays from feature importance and feature names\n",
        "    feature_importance = np.array(importance)\n",
        "    feature_names = np.array(names)\n",
        "    \n",
        "    #Create a DataFrame using a Dictionary\n",
        "    data={'feature_names':feature_names,'feature_importance':feature_importance}\n",
        "    fi_df = pd.DataFrame(data)\n",
        "    \n",
        "    #Sort the DataFrame in order decreasing feature importance\n",
        "    fi_df.sort_values(by=['feature_importance'], ascending=False,inplace=True)\n",
        "    \n",
        "    #Define size of bar plot\n",
        "    plt.figure(figsize=(10,15))\n",
        "    #Plot Searborn bar chart\n",
        "    fi_df = fi_df.head(50)\n",
        "    sns.barplot(x=fi_df['feature_importance'], y=fi_df['feature_names'])\n",
        "    #Add chart labels\n",
        "    plt.title(model_type + 'FEATURE IMPORTANCE')\n",
        "    plt.xlabel('FEATURE IMPORTANCE')\n",
        "    plt.ylabel('FEATURE NAMES')"
      ],
      "metadata": {
        "id": "7FtlTFP4CyPw"
      },
      "execution_count": 25,
      "outputs": []
    },
    {
      "cell_type": "markdown",
      "source": [
        "На графике видим первые 50 признаков по важности вклада в результат.  Наиболеее  существенный вклад вносит признак full_sq. Тк мы видели , что при изучении корреляции  призкаов и целевой переменной первые несколько признаков были наиболее скореллированы, то гипотеза, что эти признаки больше вчего влияб на стоимость подтвердилась."
      ],
      "metadata": {
        "id": "v2qinEJbnZsc"
      }
    },
    {
      "cell_type": "code",
      "source": [
        "plot_feature_importance(cat_model.get_feature_importance(),X_train.columns,'CATBOOST')"
      ],
      "metadata": {
        "colab": {
          "base_uri": "https://localhost:8080/",
          "height": 893
        },
        "id": "NWxJ-BJANg6_",
        "outputId": "58e92493-b008-4874-ccec-3c989cdd46ee"
      },
      "execution_count": 32,
      "outputs": [
        {
          "output_type": "display_data",
          "data": {
            "image/png": "[encoded data removed]",
            "text/plain": [
              "<Figure size 720x1080 with 1 Axes>"
            ]
          },
          "metadata": {
            "needs_background": "light"
          }
        }
      ]
    },
    {
      "cell_type": "markdown",
      "source": [
        "### 3. Загрузка  тестовых значений"
      ],
      "metadata": {
        "id": "qmwJ3c8xEmtE"
      }
    },
    {
      "cell_type": "code",
      "source": [
        "submission = pd.DataFrame(columns=['id'], data= raw_test_data)\n",
        "submission[target] = y_preds_test\n",
        "submission.head()"
      ],
      "metadata": {
        "colab": {
          "base_uri": "https://localhost:8080/",
          "height": 206
        },
        "id": "D5J3GTf0EwIl",
        "outputId": "027fa116-4e81-435b-ca23-b66e98bf8840"
      },
      "execution_count": 33,
      "outputs": [
        {
          "output_type": "execute_result",
          "data": {
            "text/html": [
              "\n",
              "  <div id=\"df-724668e8-92ed-49a7-b680-26c9da17353d\">\n",
              "    <div class=\"colab-df-container\">\n",
              "      <div>\n",
              "<style scoped>\n",
              "    .dataframe tbody tr th:only-of-type {\n",
              "        vertical-align: middle;\n",
              "    }\n",
              "\n",
              "    .dataframe tbody tr th {\n",
              "        vertical-align: top;\n",
              "    }\n",
              "\n",
              "    .dataframe thead th {\n",
              "        text-align: right;\n",
              "    }\n",
              "</style>\n",
              "<table border=\"1\" class=\"dataframe\">\n",
              "  <thead>\n",
              "    <tr style=\"text-align: right;\">\n",
              "      <th></th>\n",
              "      <th>id</th>\n",
              "      <th>price_doc</th>\n",
              "    </tr>\n",
              "  </thead>\n",
              "  <tbody>\n",
              "    <tr>\n",
              "      <th>0</th>\n",
              "      <td>30474</td>\n",
              "      <td>5,412,039.31</td>\n",
              "    </tr>\n",
              "    <tr>\n",
              "      <th>1</th>\n",
              "      <td>30475</td>\n",
              "      <td>8,112,135.28</td>\n",
              "    </tr>\n",
              "    <tr>\n",
              "      <th>2</th>\n",
              "      <td>30476</td>\n",
              "      <td>5,257,884.09</td>\n",
              "    </tr>\n",
              "    <tr>\n",
              "      <th>3</th>\n",
              "      <td>30477</td>\n",
              "      <td>5,619,375.05</td>\n",
              "    </tr>\n",
              "    <tr>\n",
              "      <th>4</th>\n",
              "      <td>30478</td>\n",
              "      <td>4,738,281.02</td>\n",
              "    </tr>\n",
              "  </tbody>\n",
              "</table>\n",
              "</div>\n",
              "      <button class=\"colab-df-convert\" onclick=\"convertToInteractive('df-724668e8-92ed-49a7-b680-26c9da17353d')\"\n",
              "              title=\"Convert this dataframe to an interactive table.\"\n",
              "              style=\"display:none;\">\n",
              "        \n",
              "  <svg xmlns=\"http://www.w3.org/2000/svg\" height=\"24px\"viewBox=\"0 0 24 24\"\n",
              "       width=\"24px\">\n",
              "    <path d=\"M0 0h24v24H0V0z\" fill=\"none\"/>\n",
              "    <path d=\"M18.56 5.44l.94 2.06.94-2.06 2.06-.94-2.06-.94-.94-2.06-.94 2.06-2.06.94zm-11 1L8.5 8.5l.94-2.06 2.06-.94-2.06-.94L8.5 2.5l-.94 2.06-2.06.94zm10 10l.94 2.06.94-2.06 2.06-.94-2.06-.94-.94-2.06-.94 2.06-2.06.94z\"/><path d=\"M17.41 7.96l-1.37-1.37c-.4-.4-.92-.59-1.43-.59-.52 0-1.04.2-1.43.59L10.3 9.45l-7.72 7.72c-.78.78-.78 2.05 0 2.83L4 21.41c.39.39.9.59 1.41.59.51 0 1.02-.2 1.41-.59l7.78-7.78 2.81-2.81c.8-.78.8-2.07 0-2.86zM5.41 20L4 18.59l7.72-7.72 1.47 1.35L5.41 20z\"/>\n",
              "  </svg>\n",
              "      </button>\n",
              "      \n",
              "  <style>\n",
              "    .colab-df-container {\n",
              "      display:flex;\n",
              "      flex-wrap:wrap;\n",
              "      gap: 12px;\n",
              "    }\n",
              "\n",
              "    .colab-df-convert {\n",
              "      background-color: #E8F0FE;\n",
              "      border: none;\n",
              "      border-radius: 50%;\n",
              "      cursor: pointer;\n",
              "      display: none;\n",
              "      fill: #1967D2;\n",
              "      height: 32px;\n",
              "      padding: 0 0 0 0;\n",
              "      width: 32px;\n",
              "    }\n",
              "\n",
              "    .colab-df-convert:hover {\n",
              "      background-color: #E2EBFA;\n",
              "      box-shadow: 0px 1px 2px rgba(60, 64, 67, 0.3), 0px 1px 3px 1px rgba(60, 64, 67, 0.15);\n",
              "      fill: #174EA6;\n",
              "    }\n",
              "\n",
              "    [theme=dark] .colab-df-convert {\n",
              "      background-color: #3B4455;\n",
              "      fill: #D2E3FC;\n",
              "    }\n",
              "\n",
              "    [theme=dark] .colab-df-convert:hover {\n",
              "      background-color: #434B5C;\n",
              "      box-shadow: 0px 1px 3px 1px rgba(0, 0, 0, 0.15);\n",
              "      filter: drop-shadow(0px 1px 2px rgba(0, 0, 0, 0.3));\n",
              "      fill: #FFFFFF;\n",
              "    }\n",
              "  </style>\n",
              "\n",
              "      <script>\n",
              "        const buttonEl =\n",
              "          document.querySelector('#df-724668e8-92ed-49a7-b680-26c9da17353d button.colab-df-convert');\n",
              "        buttonEl.style.display =\n",
              "          google.colab.kernel.accessAllowed ? 'block' : 'none';\n",
              "\n",
              "        async function convertToInteractive(key) {\n",
              "          const element = document.querySelector('#df-724668e8-92ed-49a7-b680-26c9da17353d');\n",
              "          const dataTable =\n",
              "            await google.colab.kernel.invokeFunction('convertToInteractive',\n",
              "                                                     [key], {});\n",
              "          if (!dataTable) return;\n",
              "\n",
              "          const docLinkHtml = 'Like what you see? Visit the ' +\n",
              "            '<a target=\"_blank\" href=https://colab.research.google.com/notebooks/data_table.ipynb>data table notebook</a>'\n",
              "            + ' to learn more about interactive tables.';\n",
              "          element.innerHTML = '';\n",
              "          dataTable['output_type'] = 'display_data';\n",
              "          await google.colab.output.renderOutput(dataTable, element);\n",
              "          const docLink = document.createElement('div');\n",
              "          docLink.innerHTML = docLinkHtml;\n",
              "          element.appendChild(docLink);\n",
              "        }\n",
              "      </script>\n",
              "    </div>\n",
              "  </div>\n",
              "  "
            ],
            "text/plain": [
              "      id    price_doc\n",
              "0  30474 5,412,039.31\n",
              "1  30475 8,112,135.28\n",
              "2  30476 5,257,884.09\n",
              "3  30477 5,619,375.05\n",
              "4  30478 4,738,281.02"
            ]
          },
          "metadata": {},
          "execution_count": 33
        }
      ]
    },
    {
      "cell_type": "code",
      "source": [
        "submission.to_csv(\"submission.csv\", index = False)\n"
      ],
      "metadata": {
        "id": "zMs30QA7GI_5"
      },
      "execution_count": 34,
      "outputs": []
    },
    {
      "cell_type": "code",
      "source": [
        "!kaggle competitions submit -c sberbank-russian-housing-market -f \"submission.csv\" -m \"the first attempt\""
      ],
      "metadata": {
        "colab": {
          "base_uri": "https://localhost:8080/"
        },
        "id": "XCrtrEXlGZ4W",
        "outputId": "cd637f0d-658e-485e-e237-79f51a861ace"
      },
      "execution_count": 35,
      "outputs": [
        {
          "output_type": "stream",
          "name": "stdout",
          "text": [
            "Warning: Looks like you're using an outdated API Version, please consider updating (server 1.5.12 / client 1.5.4)\n",
            "100% 180k/180k [00:07<00:00, 24.5kB/s]\n",
            "Successfully submitted to Sberbank Russian Housing Market"
          ]
        }
      ]
    }
  ]
}