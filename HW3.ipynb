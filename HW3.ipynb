{
  "nbformat": 4,
  "nbformat_minor": 0,
  "metadata": {
    "colab": {
      "name": "HW3",
      "provenance": [],
      "mount_file_id": "14ZkBLY4f4jTMBfdCh4xOBXw4kKch5eRC",
      "authorship_tag": "ABX9TyMY17uHXFryNMiTfMV9CRWB",
      "include_colab_link": true
    },
    "kernelspec": {
      "name": "python3",
      "display_name": "Python 3"
    },
    "language_info": {
      "name": "python"
    }
  },
  "cells": [
    {
      "cell_type": "markdown",
      "metadata": {
        "id": "view-in-github",
        "colab_type": "text"
      },
      "source": [
        "<a href=\"https://colab.research.google.com/github/kapitalistka/DataSienceEducation/blob/main/HW3.ipynb\" target=\"_parent\"><img src=\"https://colab.research.google.com/assets/colab-badge.svg\" alt=\"Open In Colab\"/></a>"
      ]
    },
    {
      "cell_type": "code",
      "execution_count": null,
      "metadata": {
        "id": "Ozw2kjYLMStb",
        "colab": {
          "base_uri": "https://localhost:8080/"
        },
        "outputId": "fea0bf99-7d97-405f-c6cf-acb7ff7d155a"
      },
      "outputs": [
        {
          "output_type": "stream",
          "name": "stdout",
          "text": [
            "Drive already mounted at /content/gdrive; to attempt to forcibly remount, call drive.mount(\"/content/gdrive\", force_remount=True).\n"
          ]
        }
      ],
      "source": [
        "#!pip install kaggle\n",
        "from google.colab import files\n",
        "from google.colab import drive\n",
        "from zipfile import ZipFile\n",
        "from google.colab import files\n",
        "drive.mount('/content/gdrive')"
      ]
    },
    {
      "cell_type": "code",
      "source": [
        "def update_kaggle_token():\n",
        "  uploaded = files.upload()\n",
        "\n",
        "  for fn in uploaded.keys():\n",
        "    print('User uploaded file \"{name}\" with length {length} bytes'.format(\n",
        "        name=fn, length=len(uploaded[fn])))\n",
        "  \n",
        "  # Then move kaggle.json into the folder where the API expects to find it.\n",
        "  !mkdir -p ~/.kaggle/ && mv kaggle.json ~/.kaggle/ && chmod 600 ~/.kaggle/kaggle.json\n",
        "\n",
        "#update_kaggle_token()"
      ],
      "metadata": {
        "id": "2vfdsQ1WqU-b"
      },
      "execution_count": null,
      "outputs": []
    },
    {
      "cell_type": "code",
      "source": [
        "def download_kaggle_data():\n",
        "  %cd /\n",
        "  %cd /content\n",
        "  !mkdir -p kaggle/HW3/\n",
        "  %cd kaggle/HW3\n",
        "  !kaggle competitions download -c sberbank-russian-housing-market\n",
        "  %cd /content\n",
        "\n",
        "download_kaggle_data();"
      ],
      "metadata": {
        "colab": {
          "base_uri": "https://localhost:8080/"
        },
        "id": "DePGmg9_sgaf",
        "outputId": "a8e67605-d37f-4d29-d215-9da64e6999e4"
      },
      "execution_count": null,
      "outputs": [
        {
          "output_type": "stream",
          "name": "stdout",
          "text": [
            "/\n",
            "/content\n",
            "/content/kaggle/HW3\n",
            "Warning: Looks like you're using an outdated API Version, please consider updating (server 1.5.12 / client 1.5.4)\n",
            "train.csv.zip: Skipping, found more recently modified local copy (use --force to force download)\n",
            "test.csv.zip: Skipping, found more recently modified local copy (use --force to force download)\n",
            "data_dictionary.txt: Skipping, found more recently modified local copy (use --force to force download)\n",
            "macro.csv.zip: Skipping, found more recently modified local copy (use --force to force download)\n",
            "sample_submission.csv.zip: Skipping, found more recently modified local copy (use --force to force download)\n",
            "/content\n"
          ]
        }
      ]
    },
    {
      "cell_type": "code",
      "source": [
        "import numpy as np\n",
        "import pandas as pd"
      ],
      "metadata": {
        "id": "q5hqbTvUvWFG"
      },
      "execution_count": null,
      "outputs": []
    },
    {
      "cell_type": "code",
      "source": [
        "file_zip_train = \"kaggle/HW3/train.csv.zip\"\n",
        "file_train = \"train.csv\"\n",
        "\n",
        "file_zip_test = \"kaggle/HW3/test.csv.zip\"\n",
        "file_test = \"test.csv\"\n"
      ],
      "metadata": {
        "id": "hvPcym6_NWA7"
      },
      "execution_count": null,
      "outputs": []
    },
    {
      "cell_type": "code",
      "source": [
        "raw_train_data = pd.read_csv(ZipFile(file_zip_train).open(file_train))\n",
        "raw_test_data = pd.read_csv(ZipFile(file_zip_test).open(file_test))"
      ],
      "metadata": {
        "id": "U9TWqKH9SYId"
      },
      "execution_count": null,
      "outputs": []
    },
    {
      "cell_type": "code",
      "source": [
        "raw_train_data.describe()"
      ],
      "metadata": {
        "id": "fKA2HSrqTv9_"
      },
      "execution_count": null,
      "outputs": []
    },
    {
      "cell_type": "code",
      "source": [
        "raw_data_train.price.corr()"
      ],
      "metadata": {
        "id": "P-ILho7uVoTT"
      },
      "execution_count": null,
      "outputs": []
    }
  ]
}